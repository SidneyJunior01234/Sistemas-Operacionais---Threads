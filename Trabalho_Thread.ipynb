{
  "nbformat": 4,
  "nbformat_minor": 0,
  "metadata": {
    "colab": {
      "provenance": [],
      "authorship_tag": "ABX9TyPM7vY7SB6rmM029UU22Lw8",
      "include_colab_link": true
    },
    "kernelspec": {
      "name": "python3",
      "display_name": "Python 3"
    },
    "language_info": {
      "name": "python"
    }
  },
  "cells": [
    {
      "cell_type": "markdown",
      "metadata": {
        "id": "view-in-github",
        "colab_type": "text"
      },
      "source": [
        "<a href=\"https://colab.research.google.com/github/SidneyJunior01234/Sistemas-Operacionais---Threads/blob/main/Trabalho_Thread.ipynb\" target=\"_parent\"><img src=\"https://colab.research.google.com/assets/colab-badge.svg\" alt=\"Open In Colab\"/></a>"
      ]
    },
    {
      "cell_type": "markdown",
      "source": [
        "#**Referências**\n",
        "\n",
        "**Pycachesim github: https://github.com/RRZE-HPC/pycachesim**\n",
        "\n",
        "**Pycachesim pypi.org: https://pypi.org/project/pycachesim/#description**\n",
        "\n",
        "**Threading docs.python.org: https://docs.python.org/3/library/threading.html**\n",
        "\n",
        "**Threading geeks for geeks: https://www.geeksforgeeks.org/multithreading-in-python-set-2-synchronization/**"
      ],
      "metadata": {
        "id": "csRp_k5cfg6z"
      }
    },
    {
      "cell_type": "markdown",
      "source": [
        "#**Instalação da Biblioteca Pycachesim**"
      ],
      "metadata": {
        "id": "p4c_TmvfA4S-"
      }
    },
    {
      "cell_type": "code",
      "execution_count": null,
      "metadata": {
        "id": "2DWCkkvL_1Vk",
        "colab": {
          "base_uri": "https://localhost:8080/"
        },
        "outputId": "ba29c353-78e0-4d52-fb8f-165a8156516f"
      },
      "outputs": [
        {
          "output_type": "stream",
          "name": "stdout",
          "text": [
            "Looking in indexes: https://pypi.org/simple, https://us-python.pkg.dev/colab-wheels/public/simple/\n",
            "Requirement already satisfied: pycachesim in /usr/local/lib/python3.7/dist-packages (0.3.1)\n"
          ]
        }
      ],
      "source": [
        "!pip install pycachesim"
      ]
    },
    {
      "cell_type": "markdown",
      "source": [
        "#**Importando Bibliotecas**"
      ],
      "metadata": {
        "id": "rkCWD32ye-ej"
      }
    },
    {
      "cell_type": "markdown",
      "source": [
        "**Inportando pandas para ler o o arquivo de endereços**\n",
        "\n",
        "**Inportando threading para utilizar as threads**\n",
        "\n",
        "**Inportando cachesim para simular a cache de acordo com os enderecos**\n",
        "\n",
        "**Importando time para verificar tempo de execução das threads**"
      ],
      "metadata": {
        "id": "N3Hfnt5iBQIE"
      }
    },
    {
      "cell_type": "code",
      "source": [
        "import pandas as pd\n",
        "\n",
        "from cachesim import CacheSimulator, Cache, MainMemory\n",
        "import threading\n",
        "\n",
        "import time"
      ],
      "metadata": {
        "id": "kz05tDntBOCb"
      },
      "execution_count": null,
      "outputs": []
    },
    {
      "cell_type": "markdown",
      "source": [
        "#**Importando Endereços**"
      ],
      "metadata": {
        "id": "qTbTkaJIfE2C"
      }
    },
    {
      "cell_type": "markdown",
      "source": [
        "**Importando os endereços do github e verificando os dados**"
      ],
      "metadata": {
        "id": "pgFaUmcLDYus"
      }
    },
    {
      "cell_type": "code",
      "source": [
        "enderecos = pd.read_csv('https://raw.githubusercontent.com/SidneyJunior01234/Sistemas-Operacionais---Threads/main/Teste%20Thread/enderecos.dat', sep='::', engine='python', header=None).rename(columns = {0: 'enderecos'})\n",
        "\n",
        "enderecos.head()"
      ],
      "metadata": {
        "colab": {
          "base_uri": "https://localhost:8080/",
          "height": 206
        },
        "id": "BOXn0lMwDZCD",
        "outputId": "d05295e2-12a5-4276-e367-cbd2d5d211c8"
      },
      "execution_count": null,
      "outputs": [
        {
          "output_type": "execute_result",
          "data": {
            "text/plain": [
              "   enderecos\n",
              "0          0\n",
              "1          1\n",
              "2          2\n",
              "3          3\n",
              "4          4"
            ],
            "text/html": [
              "\n",
              "  <div id=\"df-0ef60905-c0e9-42df-834c-89d1da9cc6c5\">\n",
              "    <div class=\"colab-df-container\">\n",
              "      <div>\n",
              "<style scoped>\n",
              "    .dataframe tbody tr th:only-of-type {\n",
              "        vertical-align: middle;\n",
              "    }\n",
              "\n",
              "    .dataframe tbody tr th {\n",
              "        vertical-align: top;\n",
              "    }\n",
              "\n",
              "    .dataframe thead th {\n",
              "        text-align: right;\n",
              "    }\n",
              "</style>\n",
              "<table border=\"1\" class=\"dataframe\">\n",
              "  <thead>\n",
              "    <tr style=\"text-align: right;\">\n",
              "      <th></th>\n",
              "      <th>enderecos</th>\n",
              "    </tr>\n",
              "  </thead>\n",
              "  <tbody>\n",
              "    <tr>\n",
              "      <th>0</th>\n",
              "      <td>0</td>\n",
              "    </tr>\n",
              "    <tr>\n",
              "      <th>1</th>\n",
              "      <td>1</td>\n",
              "    </tr>\n",
              "    <tr>\n",
              "      <th>2</th>\n",
              "      <td>2</td>\n",
              "    </tr>\n",
              "    <tr>\n",
              "      <th>3</th>\n",
              "      <td>3</td>\n",
              "    </tr>\n",
              "    <tr>\n",
              "      <th>4</th>\n",
              "      <td>4</td>\n",
              "    </tr>\n",
              "  </tbody>\n",
              "</table>\n",
              "</div>\n",
              "      <button class=\"colab-df-convert\" onclick=\"convertToInteractive('df-0ef60905-c0e9-42df-834c-89d1da9cc6c5')\"\n",
              "              title=\"Convert this dataframe to an interactive table.\"\n",
              "              style=\"display:none;\">\n",
              "        \n",
              "  <svg xmlns=\"http://www.w3.org/2000/svg\" height=\"24px\"viewBox=\"0 0 24 24\"\n",
              "       width=\"24px\">\n",
              "    <path d=\"M0 0h24v24H0V0z\" fill=\"none\"/>\n",
              "    <path d=\"M18.56 5.44l.94 2.06.94-2.06 2.06-.94-2.06-.94-.94-2.06-.94 2.06-2.06.94zm-11 1L8.5 8.5l.94-2.06 2.06-.94-2.06-.94L8.5 2.5l-.94 2.06-2.06.94zm10 10l.94 2.06.94-2.06 2.06-.94-2.06-.94-.94-2.06-.94 2.06-2.06.94z\"/><path d=\"M17.41 7.96l-1.37-1.37c-.4-.4-.92-.59-1.43-.59-.52 0-1.04.2-1.43.59L10.3 9.45l-7.72 7.72c-.78.78-.78 2.05 0 2.83L4 21.41c.39.39.9.59 1.41.59.51 0 1.02-.2 1.41-.59l7.78-7.78 2.81-2.81c.8-.78.8-2.07 0-2.86zM5.41 20L4 18.59l7.72-7.72 1.47 1.35L5.41 20z\"/>\n",
              "  </svg>\n",
              "      </button>\n",
              "      \n",
              "  <style>\n",
              "    .colab-df-container {\n",
              "      display:flex;\n",
              "      flex-wrap:wrap;\n",
              "      gap: 12px;\n",
              "    }\n",
              "\n",
              "    .colab-df-convert {\n",
              "      background-color: #E8F0FE;\n",
              "      border: none;\n",
              "      border-radius: 50%;\n",
              "      cursor: pointer;\n",
              "      display: none;\n",
              "      fill: #1967D2;\n",
              "      height: 32px;\n",
              "      padding: 0 0 0 0;\n",
              "      width: 32px;\n",
              "    }\n",
              "\n",
              "    .colab-df-convert:hover {\n",
              "      background-color: #E2EBFA;\n",
              "      box-shadow: 0px 1px 2px rgba(60, 64, 67, 0.3), 0px 1px 3px 1px rgba(60, 64, 67, 0.15);\n",
              "      fill: #174EA6;\n",
              "    }\n",
              "\n",
              "    [theme=dark] .colab-df-convert {\n",
              "      background-color: #3B4455;\n",
              "      fill: #D2E3FC;\n",
              "    }\n",
              "\n",
              "    [theme=dark] .colab-df-convert:hover {\n",
              "      background-color: #434B5C;\n",
              "      box-shadow: 0px 1px 3px 1px rgba(0, 0, 0, 0.15);\n",
              "      filter: drop-shadow(0px 1px 2px rgba(0, 0, 0, 0.3));\n",
              "      fill: #FFFFFF;\n",
              "    }\n",
              "  </style>\n",
              "\n",
              "      <script>\n",
              "        const buttonEl =\n",
              "          document.querySelector('#df-0ef60905-c0e9-42df-834c-89d1da9cc6c5 button.colab-df-convert');\n",
              "        buttonEl.style.display =\n",
              "          google.colab.kernel.accessAllowed ? 'block' : 'none';\n",
              "\n",
              "        async function convertToInteractive(key) {\n",
              "          const element = document.querySelector('#df-0ef60905-c0e9-42df-834c-89d1da9cc6c5');\n",
              "          const dataTable =\n",
              "            await google.colab.kernel.invokeFunction('convertToInteractive',\n",
              "                                                     [key], {});\n",
              "          if (!dataTable) return;\n",
              "\n",
              "          const docLinkHtml = 'Like what you see? Visit the ' +\n",
              "            '<a target=\"_blank\" href=https://colab.research.google.com/notebooks/data_table.ipynb>data table notebook</a>'\n",
              "            + ' to learn more about interactive tables.';\n",
              "          element.innerHTML = '';\n",
              "          dataTable['output_type'] = 'display_data';\n",
              "          await google.colab.output.renderOutput(dataTable, element);\n",
              "          const docLink = document.createElement('div');\n",
              "          docLink.innerHTML = docLinkHtml;\n",
              "          element.appendChild(docLink);\n",
              "        }\n",
              "      </script>\n",
              "    </div>\n",
              "  </div>\n",
              "  "
            ]
          },
          "metadata": {},
          "execution_count": 3
        }
      ]
    },
    {
      "cell_type": "markdown",
      "source": [
        "#**Criação da Memória e Função de Mapeamento**"
      ],
      "metadata": {
        "id": "Sf6YFHLrfMKi"
      }
    },
    {
      "cell_type": "markdown",
      "source": [
        "**Criando memória principal**"
      ],
      "metadata": {
        "id": "qFfqJbNQAEOS"
      }
    },
    {
      "cell_type": "code",
      "source": [
        "memoria_principal = MainMemory('MemoriaPrincipal')"
      ],
      "metadata": {
        "id": "px-zG4nI_c3D"
      },
      "execution_count": null,
      "outputs": []
    },
    {
      "cell_type": "markdown",
      "source": [
        "**Função auxiliar que realiza o mapeamento e imprime o resultado**"
      ],
      "metadata": {
        "id": "uE9ma_Kt_n5C"
      }
    },
    {
      "cell_type": "code",
      "source": [
        "def Mapeamento(mm:MainMemory,enderecos,nome:str,conjuntos:int,vias:int,tamanho:int = 4):\n",
        "  cache = Cache(nome, conjuntos, vias, tamanho)\n",
        "\n",
        "  mm.load_to(cache)\n",
        "  mm.store_from(cache)\n",
        "\n",
        "  cs = CacheSimulator(cache, mm)\n",
        "\n",
        "  for endereco in range(enderecos.size):\n",
        "    cs.load(enderecos.iloc[endereco])\n",
        "\n",
        "  cs.force_write_back()\n",
        "  cs.print_stats()\n",
        "  print('\\n')\n",
        "  "
      ],
      "metadata": {
        "id": "_QltXn0E_nZK"
      },
      "execution_count": null,
      "outputs": []
    },
    {
      "cell_type": "markdown",
      "source": [
        "#**Teste de Mapeamentos**"
      ],
      "metadata": {
        "id": "exizq4ZZfTfC"
      }
    },
    {
      "cell_type": "markdown",
      "source": [
        "**Teste de Mapeamento Direto**"
      ],
      "metadata": {
        "id": "7JzD0od0KRRD"
      }
    },
    {
      "cell_type": "code",
      "source": [
        "Mapeamento(memoria_principal,enderecos,'MapeamentoDireto',256,1,4)"
      ],
      "metadata": {
        "id": "6VZDq3anBLD8",
        "colab": {
          "base_uri": "https://localhost:8080/"
        },
        "outputId": "72222f38-951a-4c1b-c09f-be67ddb0b1ea"
      },
      "execution_count": null,
      "outputs": [
        {
          "output_type": "stream",
          "name": "stdout",
          "text": [
            "CACHE *******HIT******** *******MISS******* *******LOAD******* ******STORE******* ******EVICT*******\n",
            "MapeamentoDireto  10019 (   10019B)   1681 (    1681B)  11700 (   11700B)      0 (       0B)      0 (       0B)\n",
            "MemoriaPrincipal   1681 (    1681B)      0 (       0B)   1681 (    1681B)      0 (       0B)      0 (       0B)\n",
            "\n",
            "\n"
          ]
        }
      ]
    },
    {
      "cell_type": "markdown",
      "source": [
        "**Teste de Mapeamento Associativo em Conjunto 2 Vias**"
      ],
      "metadata": {
        "id": "OeMbcmgwKU4Z"
      }
    },
    {
      "cell_type": "code",
      "source": [
        "Mapeamento(memoria_principal,enderecos,'MapAssoConj2Vias',128,2,4)"
      ],
      "metadata": {
        "id": "TiHNCJ5hKd_R",
        "colab": {
          "base_uri": "https://localhost:8080/"
        },
        "outputId": "2b96c0a2-4e56-4887-ce78-f69b42deb18f"
      },
      "execution_count": null,
      "outputs": [
        {
          "output_type": "stream",
          "name": "stdout",
          "text": [
            "CACHE *******HIT******** *******MISS******* *******LOAD******* ******STORE******* ******EVICT*******\n",
            "MapAssoConj2Vias  10019 (   10019B)   1681 (    1681B)  11700 (   11700B)      0 (       0B)      0 (       0B)\n",
            "MemoriaPrincipal   1681 (    1681B)      0 (       0B)   1681 (    1681B)      0 (       0B)      0 (       0B)\n",
            "\n",
            "\n"
          ]
        }
      ]
    },
    {
      "cell_type": "markdown",
      "source": [
        "**Teste de Mapeamento Associativo em Conjunto 4 Vias**"
      ],
      "metadata": {
        "id": "vGCVie_We1TE"
      }
    },
    {
      "cell_type": "code",
      "source": [
        "Mapeamento(memoria_principal,enderecos,'MapAssoConj4Vias',128,4,4)"
      ],
      "metadata": {
        "id": "EaQDVyjJdeny",
        "colab": {
          "base_uri": "https://localhost:8080/"
        },
        "outputId": "8bb9d510-593b-4835-8e5e-104df5c077b0"
      },
      "execution_count": null,
      "outputs": [
        {
          "output_type": "stream",
          "name": "stdout",
          "text": [
            "CACHE *******HIT******** *******MISS******* *******LOAD******* ******STORE******* ******EVICT*******\n",
            "MapAssoConj4Vias  10019 (   10019B)   1681 (    1681B)  11700 (   11700B)      0 (       0B)      0 (       0B)\n",
            "MemoriaPrincipal   1681 (    1681B)      0 (       0B)   1681 (    1681B)      0 (       0B)      0 (       0B)\n",
            "\n",
            "\n"
          ]
        }
      ]
    },
    {
      "cell_type": "markdown",
      "source": [
        "**Teste de Mapeamento Associativo em Conjunto 8 Vias**"
      ],
      "metadata": {
        "id": "YqFx2leKMxkm"
      }
    },
    {
      "cell_type": "code",
      "source": [
        "Mapeamento(memoria_principal,enderecos,'MapAssoConj8Vias',128,8,4)"
      ],
      "metadata": {
        "colab": {
          "base_uri": "https://localhost:8080/"
        },
        "id": "EDzcZOGNMyHY",
        "outputId": "72ff6e2e-123e-411a-8b65-f02b82c67cd5"
      },
      "execution_count": null,
      "outputs": [
        {
          "output_type": "stream",
          "name": "stdout",
          "text": [
            "CACHE *******HIT******** *******MISS******* *******LOAD******* ******STORE******* ******EVICT*******\n",
            "MapAssoConj8Vias  10019 (   10019B)   1681 (    1681B)  11700 (   11700B)      0 (       0B)      0 (       0B)\n",
            "MemoriaPrincipal   1681 (    1681B)      0 (       0B)   1681 (    1681B)      0 (       0B)      0 (       0B)\n",
            "\n",
            "\n"
          ]
        }
      ]
    },
    {
      "cell_type": "markdown",
      "source": [
        "**Teste de Mapeamento Associativo em Conjunto 16 Vias**"
      ],
      "metadata": {
        "id": "aj9MgIqeNMeU"
      }
    },
    {
      "cell_type": "code",
      "source": [
        "Mapeamento(memoria_principal,enderecos,'MapAssoConj16Vias',128,16,4)"
      ],
      "metadata": {
        "colab": {
          "base_uri": "https://localhost:8080/"
        },
        "id": "YRKu9RCdNQlI",
        "outputId": "058d3197-319a-4bac-c7b2-66cc5e0b9703"
      },
      "execution_count": null,
      "outputs": [
        {
          "output_type": "stream",
          "name": "stdout",
          "text": [
            "CACHE *******HIT******** *******MISS******* *******LOAD******* ******STORE******* ******EVICT*******\n",
            "MapAssoConj16Vias  10019 (   10019B)   1681 (    1681B)  11700 (   11700B)      0 (       0B)      0 (       0B)\n",
            "MemoriaPrincipal   1681 (    1681B)      0 (       0B)   1681 (    1681B)      0 (       0B)      0 (       0B)\n",
            "\n",
            "\n"
          ]
        }
      ]
    },
    {
      "cell_type": "markdown",
      "source": [
        "**Teste de Mapeamento Totalmente Associativo**"
      ],
      "metadata": {
        "id": "fxExFY5De21c"
      }
    },
    {
      "cell_type": "code",
      "source": [
        "Mapeamento(memoria_principal,enderecos,'MapTotAss',1,2,4)"
      ],
      "metadata": {
        "id": "1tCu_CHIehg7",
        "colab": {
          "base_uri": "https://localhost:8080/"
        },
        "outputId": "f72721ff-6667-4319-b7bc-50ee2022eed0"
      },
      "execution_count": null,
      "outputs": [
        {
          "output_type": "stream",
          "name": "stdout",
          "text": [
            "CACHE *******HIT******** *******MISS******* *******LOAD******* ******STORE******* ******EVICT*******\n",
            "MapTotAss   8775 (    8775B)   2925 (    2925B)  11700 (   11700B)      0 (       0B)      0 (       0B)\n",
            "MemoriaPrincipal   2925 (    2925B)      0 (       0B)   2925 (    2925B)      0 (       0B)      0 (       0B)\n",
            "\n",
            "\n"
          ]
        }
      ]
    },
    {
      "cell_type": "markdown",
      "source": [
        "#**Teste de Threads com Sincronização**"
      ],
      "metadata": {
        "id": "Zsp5fg8Xhshr"
      }
    },
    {
      "cell_type": "markdown",
      "source": [
        "**Exemplo do site Geeks For Geeks, com utilização do método Lock( ) para bloquear o acesso de uma thread a variável global. Lock possui acquire( ) para bloquear ou não uma thread e release( ) para desbloquear uma thread.**"
      ],
      "metadata": {
        "id": "FIcWrD3n_e3Y"
      }
    },
    {
      "cell_type": "markdown",
      "source": [
        "**O método Lock( ) permite implementar a sincronização de threads. O acquire( ) força as threads a funcionarem sincronizadamente.**"
      ],
      "metadata": {
        "id": "ZyKmNFT-M7PF"
      }
    },
    {
      "cell_type": "code",
      "source": [
        "#variavel global\n",
        "x = 0\n",
        "  \n",
        "def increment():\n",
        "    \"\"\"\n",
        "    funcao que uncrementa a variavel global x\n",
        "    \"\"\"\n",
        "    global x\n",
        "    x += 1\n",
        "  \n",
        "def thread_task(lock):\n",
        "    \"\"\"\n",
        "    tarefa da trade\n",
        "    chamadas de incremento 100000 repetições.\n",
        "    \"\"\"\n",
        "    for _ in range(100000):\n",
        "        lock.acquire()\n",
        "        increment()\n",
        "        lock.release()\n",
        "  \n",
        "def main_task():\n",
        "    global x\n",
        "    #iniciando a variavel global como 0\n",
        "    x = 0\n",
        "  \n",
        "    #criando o lock\n",
        "    lock = threading.Lock()\n",
        "  \n",
        "    #criando as threads\n",
        "    t1 = threading.Thread(target=thread_task, args=(lock,))\n",
        "    t2 = threading.Thread(target=thread_task, args=(lock,))\n",
        "  \n",
        "    #iniciando as threads\n",
        "    t1.start()\n",
        "    t2.start()\n",
        "  \n",
        "    #aguardando a finalização das threads\n",
        "    t1.join()\n",
        "    t2.join()\n",
        "  \n",
        "if __name__ == \"__main__\":\n",
        "    for i in range(10):\n",
        "        main_task()\n",
        "        print(\"Iterações {0}: x = {1}\".format(i,x))"
      ],
      "metadata": {
        "id": "MicYazB4h0d7",
        "colab": {
          "base_uri": "https://localhost:8080/"
        },
        "outputId": "294123e9-8f79-443c-8ca3-db6159a4a528"
      },
      "execution_count": null,
      "outputs": [
        {
          "output_type": "stream",
          "name": "stdout",
          "text": [
            "Iterações 0: x = 200000\n",
            "Iterações 1: x = 200000\n",
            "Iterações 2: x = 200000\n",
            "Iterações 3: x = 200000\n",
            "Iterações 4: x = 200000\n",
            "Iterações 5: x = 200000\n",
            "Iterações 6: x = 200000\n",
            "Iterações 7: x = 200000\n",
            "Iterações 8: x = 200000\n",
            "Iterações 9: x = 200000\n"
          ]
        }
      ]
    },
    {
      "cell_type": "markdown",
      "source": [
        "**Caso não utilizado a sincronização das threads, os valores impressos seriam diferentes do esperado.**"
      ],
      "metadata": {
        "id": "YjZgJntLNvaJ"
      }
    },
    {
      "cell_type": "markdown",
      "source": [
        "#**Simulação dos Mapeamentos com Threads**"
      ],
      "metadata": {
        "id": "-6mxo7DFGoDK"
      }
    },
    {
      "cell_type": "markdown",
      "source": [
        "**Verificando lista de Endereços e a Memória Principal**"
      ],
      "metadata": {
        "id": "ijR9_LGIHcNh"
      }
    },
    {
      "cell_type": "code",
      "source": [
        "enderecos.head()"
      ],
      "metadata": {
        "colab": {
          "base_uri": "https://localhost:8080/",
          "height": 206
        },
        "id": "UhMLvFYUGw0x",
        "outputId": "bd3ca7fc-51d2-4f2a-d5c9-3070183eb881"
      },
      "execution_count": null,
      "outputs": [
        {
          "output_type": "execute_result",
          "data": {
            "text/plain": [
              "   enderecos\n",
              "0          0\n",
              "1          1\n",
              "2          2\n",
              "3          3\n",
              "4          4"
            ],
            "text/html": [
              "\n",
              "  <div id=\"df-c76220a3-48d6-444a-b134-52f48b7427ca\">\n",
              "    <div class=\"colab-df-container\">\n",
              "      <div>\n",
              "<style scoped>\n",
              "    .dataframe tbody tr th:only-of-type {\n",
              "        vertical-align: middle;\n",
              "    }\n",
              "\n",
              "    .dataframe tbody tr th {\n",
              "        vertical-align: top;\n",
              "    }\n",
              "\n",
              "    .dataframe thead th {\n",
              "        text-align: right;\n",
              "    }\n",
              "</style>\n",
              "<table border=\"1\" class=\"dataframe\">\n",
              "  <thead>\n",
              "    <tr style=\"text-align: right;\">\n",
              "      <th></th>\n",
              "      <th>enderecos</th>\n",
              "    </tr>\n",
              "  </thead>\n",
              "  <tbody>\n",
              "    <tr>\n",
              "      <th>0</th>\n",
              "      <td>0</td>\n",
              "    </tr>\n",
              "    <tr>\n",
              "      <th>1</th>\n",
              "      <td>1</td>\n",
              "    </tr>\n",
              "    <tr>\n",
              "      <th>2</th>\n",
              "      <td>2</td>\n",
              "    </tr>\n",
              "    <tr>\n",
              "      <th>3</th>\n",
              "      <td>3</td>\n",
              "    </tr>\n",
              "    <tr>\n",
              "      <th>4</th>\n",
              "      <td>4</td>\n",
              "    </tr>\n",
              "  </tbody>\n",
              "</table>\n",
              "</div>\n",
              "      <button class=\"colab-df-convert\" onclick=\"convertToInteractive('df-c76220a3-48d6-444a-b134-52f48b7427ca')\"\n",
              "              title=\"Convert this dataframe to an interactive table.\"\n",
              "              style=\"display:none;\">\n",
              "        \n",
              "  <svg xmlns=\"http://www.w3.org/2000/svg\" height=\"24px\"viewBox=\"0 0 24 24\"\n",
              "       width=\"24px\">\n",
              "    <path d=\"M0 0h24v24H0V0z\" fill=\"none\"/>\n",
              "    <path d=\"M18.56 5.44l.94 2.06.94-2.06 2.06-.94-2.06-.94-.94-2.06-.94 2.06-2.06.94zm-11 1L8.5 8.5l.94-2.06 2.06-.94-2.06-.94L8.5 2.5l-.94 2.06-2.06.94zm10 10l.94 2.06.94-2.06 2.06-.94-2.06-.94-.94-2.06-.94 2.06-2.06.94z\"/><path d=\"M17.41 7.96l-1.37-1.37c-.4-.4-.92-.59-1.43-.59-.52 0-1.04.2-1.43.59L10.3 9.45l-7.72 7.72c-.78.78-.78 2.05 0 2.83L4 21.41c.39.39.9.59 1.41.59.51 0 1.02-.2 1.41-.59l7.78-7.78 2.81-2.81c.8-.78.8-2.07 0-2.86zM5.41 20L4 18.59l7.72-7.72 1.47 1.35L5.41 20z\"/>\n",
              "  </svg>\n",
              "      </button>\n",
              "      \n",
              "  <style>\n",
              "    .colab-df-container {\n",
              "      display:flex;\n",
              "      flex-wrap:wrap;\n",
              "      gap: 12px;\n",
              "    }\n",
              "\n",
              "    .colab-df-convert {\n",
              "      background-color: #E8F0FE;\n",
              "      border: none;\n",
              "      border-radius: 50%;\n",
              "      cursor: pointer;\n",
              "      display: none;\n",
              "      fill: #1967D2;\n",
              "      height: 32px;\n",
              "      padding: 0 0 0 0;\n",
              "      width: 32px;\n",
              "    }\n",
              "\n",
              "    .colab-df-convert:hover {\n",
              "      background-color: #E2EBFA;\n",
              "      box-shadow: 0px 1px 2px rgba(60, 64, 67, 0.3), 0px 1px 3px 1px rgba(60, 64, 67, 0.15);\n",
              "      fill: #174EA6;\n",
              "    }\n",
              "\n",
              "    [theme=dark] .colab-df-convert {\n",
              "      background-color: #3B4455;\n",
              "      fill: #D2E3FC;\n",
              "    }\n",
              "\n",
              "    [theme=dark] .colab-df-convert:hover {\n",
              "      background-color: #434B5C;\n",
              "      box-shadow: 0px 1px 3px 1px rgba(0, 0, 0, 0.15);\n",
              "      filter: drop-shadow(0px 1px 2px rgba(0, 0, 0, 0.3));\n",
              "      fill: #FFFFFF;\n",
              "    }\n",
              "  </style>\n",
              "\n",
              "      <script>\n",
              "        const buttonEl =\n",
              "          document.querySelector('#df-c76220a3-48d6-444a-b134-52f48b7427ca button.colab-df-convert');\n",
              "        buttonEl.style.display =\n",
              "          google.colab.kernel.accessAllowed ? 'block' : 'none';\n",
              "\n",
              "        async function convertToInteractive(key) {\n",
              "          const element = document.querySelector('#df-c76220a3-48d6-444a-b134-52f48b7427ca');\n",
              "          const dataTable =\n",
              "            await google.colab.kernel.invokeFunction('convertToInteractive',\n",
              "                                                     [key], {});\n",
              "          if (!dataTable) return;\n",
              "\n",
              "          const docLinkHtml = 'Like what you see? Visit the ' +\n",
              "            '<a target=\"_blank\" href=https://colab.research.google.com/notebooks/data_table.ipynb>data table notebook</a>'\n",
              "            + ' to learn more about interactive tables.';\n",
              "          element.innerHTML = '';\n",
              "          dataTable['output_type'] = 'display_data';\n",
              "          await google.colab.output.renderOutput(dataTable, element);\n",
              "          const docLink = document.createElement('div');\n",
              "          docLink.innerHTML = docLinkHtml;\n",
              "          element.appendChild(docLink);\n",
              "        }\n",
              "      </script>\n",
              "    </div>\n",
              "  </div>\n",
              "  "
            ]
          },
          "metadata": {},
          "execution_count": 13
        }
      ]
    },
    {
      "cell_type": "code",
      "source": [
        "print(memoria_principal)\n",
        "print(memoria_principal.name)"
      ],
      "metadata": {
        "colab": {
          "base_uri": "https://localhost:8080/"
        },
        "id": "Cv7MggOvHp5w",
        "outputId": "a7c6a4fb-08e6-405c-eda8-7a748d350bd2"
      },
      "execution_count": null,
      "outputs": [
        {
          "output_type": "stream",
          "name": "stdout",
          "text": [
            "MainMemory(last_level_load=MapTotAss, last_level_store=MapTotAss)\n",
            "MemoriaPrincipal\n"
          ]
        }
      ]
    },
    {
      "cell_type": "markdown",
      "source": [
        "**Na função TarefaThread, temos:**\n",
        "\n",
        "**@param lock que recebe um threading.Lock()**\n",
        "\n",
        "**@param mapeamento recebe um inteiro associado ao mapeamento:**\n",
        "\n",
        "**1 - Mapeamento Direto**\n",
        "\n",
        "**2 - Mapeamento Associativo em conjunto com 2 vias**\n",
        "\n",
        "**3 - Mapeamento Associativo em conjunto com 4 vias**\n",
        "\n",
        "**4 - Mapeamento Associativo em conjunto com 8 vias**\n",
        "\n",
        "**3 - Mapeamento Associativo em conjunto com 16 vias**\n",
        "\n",
        "**6 - Mapeamento Totalmente Associativo**"
      ],
      "metadata": {
        "id": "fqMrMmK7JOmo"
      }
    },
    {
      "cell_type": "markdown",
      "source": [
        "**Tempo de execução**"
      ],
      "metadata": {
        "id": "B936xD8rPf9G"
      }
    },
    {
      "cell_type": "code",
      "source": [
        "tempoExecucao = {'1':[],'2':[],'3':[],'4':[],'5':[],'6':[]}"
      ],
      "metadata": {
        "id": "atfUB6jZkqXz"
      },
      "execution_count": null,
      "outputs": []
    },
    {
      "cell_type": "code",
      "source": [
        "def TarefaThread(lock,mapeamento:int):\n",
        "  lock.acquire()\n",
        "  \n",
        "  tempo = 0\n",
        "  inicio = time.time()\n",
        "  if mapeamento == 1:\n",
        "    Mapeamento(memoria_principal,enderecos,'MapeamentoDireto',256,1,4)\n",
        "  elif mapeamento == 2:\n",
        "    Mapeamento(memoria_principal,enderecos,'MapAssoConj2Vias',128,2,4)\n",
        "  elif mapeamento == 3:\n",
        "    Mapeamento(memoria_principal,enderecos,'MapAssoConj4Vias',128,4,4)\n",
        "  elif mapeamento == 4:\n",
        "    Mapeamento(memoria_principal,enderecos,'MapAssoConj8Vias',128,8,4)\n",
        "  elif mapeamento == 5:\n",
        "    Mapeamento(memoria_principal,enderecos,'MapAssoConj16Vias',128,16,4)\n",
        "  elif mapeamento == 6:\n",
        "    Mapeamento(memoria_principal,enderecos,'MapTotAss',1,2,4)\n",
        "  else:\n",
        "    pass\n",
        "  \n",
        "  fim = time.time()\n",
        "  tempo = fim - inicio\n",
        "\n",
        "  tempoExecucao[str(mapeamento)].append(tempo)\n",
        "\n",
        "  lock.release()"
      ],
      "metadata": {
        "id": "OZT3LCGlIvC_"
      },
      "execution_count": null,
      "outputs": []
    },
    {
      "cell_type": "markdown",
      "source": [
        "**Tarefa principal / Thread principal**\n",
        "\n",
        "**Memória Principal como variável global**"
      ],
      "metadata": {
        "id": "2sqsnMOJK-UY"
      }
    },
    {
      "cell_type": "code",
      "source": [
        "def TarefaPrincipal():\n",
        "\n",
        "  global memoria_principal\n",
        "  memoria_principal = MainMemory('MemoriaPrincipal')\n",
        "\n",
        "  lock = threading.Lock()\n",
        "\n",
        "  threadMD = threading.Thread(target=TarefaThread, args=(lock,1))\n",
        "  threadMAC2V = threading.Thread(target=TarefaThread, args=(lock,2))\n",
        "  threadMAC4V = threading.Thread(target=TarefaThread, args=(lock,3))\n",
        "  threadMAC8V = threading.Thread(target=TarefaThread, args=(lock,4))\n",
        "  threadMAC16V = threading.Thread(target=TarefaThread, args=(lock,5))\n",
        "  threadMTA = threading.Thread(target=TarefaThread, args=(lock,6))\n",
        "\n",
        "  threadMD.start()\n",
        "  threadMAC2V.start()\n",
        "  threadMAC4V.start()\n",
        "  threadMAC8V.start()\n",
        "  threadMAC16V.start()\n",
        "  threadMTA.start()\n",
        "\n",
        "  threadMD.join()\n",
        "  threadMAC2V.join()\n",
        "  threadMAC4V.join()\n",
        "  threadMAC8V.join()\n",
        "  threadMAC16V.join()\n",
        "  threadMTA.join()"
      ],
      "metadata": {
        "id": "GJTPW7NQLQXf"
      },
      "execution_count": null,
      "outputs": []
    },
    {
      "cell_type": "markdown",
      "source": [
        "**Executando Simulação**"
      ],
      "metadata": {
        "id": "G3VZ-wmnMZCg"
      }
    },
    {
      "cell_type": "code",
      "source": [
        "if __name__ == \"__main__\":\n",
        "  TarefaPrincipal() \n",
        "\n",
        "  df = pd.DataFrame(data=tempoExecucao)\n",
        "\n",
        "  print(df)\n",
        "  df.rename(columns = {'1':'Map Dir','2':'Map AC2V','3':'Map AC4V','4':'Map AC8V','5':'Map AC16V','6':'Map TA'}, inplace = True)\n",
        "  print(f'\\n{df}')\n",
        "\n",
        "  df.plot(kind='hist')"
      ],
      "metadata": {
        "colab": {
          "base_uri": "https://localhost:8080/",
          "height": 873
        },
        "id": "fnJAYAjuMV9g",
        "outputId": "d73d77d3-f64a-4a82-a595-d3ef3a5e72e8"
      },
      "execution_count": null,
      "outputs": [
        {
          "output_type": "stream",
          "name": "stdout",
          "text": [
            "CACHE *******HIT******** *******MISS******* *******LOAD******* ******STORE******* ******EVICT*******\n",
            "MapeamentoDireto  10019 (   10019B)   1681 (    1681B)  11700 (   11700B)      0 (       0B)      0 (       0B)\n",
            "MemoriaPrincipal   1681 (    1681B)      0 (       0B)   1681 (    1681B)      0 (       0B)      0 (       0B)\n",
            "\n",
            "\n",
            "CACHE *******HIT******** *******MISS******* *******LOAD******* ******STORE******* ******EVICT*******\n",
            "MapAssoConj2Vias  10019 (   10019B)   1681 (    1681B)  11700 (   11700B)      0 (       0B)      0 (       0B)\n",
            "MemoriaPrincipal   1681 (    1681B)      0 (       0B)   1681 (    1681B)      0 (       0B)      0 (       0B)\n",
            "\n",
            "\n",
            "CACHE *******HIT******** *******MISS******* *******LOAD******* ******STORE******* ******EVICT*******\n",
            "MapAssoConj4Vias  10019 (   10019B)   1681 (    1681B)  11700 (   11700B)      0 (       0B)      0 (       0B)\n",
            "MemoriaPrincipal   1681 (    1681B)      0 (       0B)   1681 (    1681B)      0 (       0B)      0 (       0B)\n",
            "\n",
            "\n",
            "CACHE *******HIT******** *******MISS******* *******LOAD******* ******STORE******* ******EVICT*******\n",
            "MapAssoConj8Vias  10019 (   10019B)   1681 (    1681B)  11700 (   11700B)      0 (       0B)      0 (       0B)\n",
            "MemoriaPrincipal   1681 (    1681B)      0 (       0B)   1681 (    1681B)      0 (       0B)      0 (       0B)\n",
            "\n",
            "\n",
            "CACHE *******HIT******** *******MISS******* *******LOAD******* ******STORE******* ******EVICT*******\n",
            "MapAssoConj16Vias  10019 (   10019B)   1681 (    1681B)  11700 (   11700B)      0 (       0B)      0 (       0B)\n",
            "MemoriaPrincipal   1681 (    1681B)      0 (       0B)   1681 (    1681B)      0 (       0B)      0 (       0B)\n",
            "\n",
            "\n",
            "CACHE *******HIT******** *******MISS******* *******LOAD******* ******STORE******* ******EVICT*******\n",
            "MapTotAss   8775 (    8775B)   2925 (    2925B)  11700 (   11700B)      0 (       0B)      0 (       0B)\n",
            "MemoriaPrincipal   2925 (    2925B)      0 (       0B)   2925 (    2925B)      0 (       0B)      0 (       0B)\n",
            "\n",
            "\n",
            "          1         2         3         4         5         6\n",
            "0  1.419565  1.768739  2.000241  0.977396  0.759841  0.744875\n",
            "\n",
            "    Map Dir  Map AC2V  Map AC4V  Map AC8V  Map AC16V    Map TA\n",
            "0  1.419565  1.768739  2.000241  0.977396   0.759841  0.744875\n"
          ]
        },
        {
          "output_type": "display_data",
          "data": {
            "text/plain": [
              "<Figure size 432x288 with 1 Axes>"
            ],
            "image/png": "[encoded data removed]"
          },
          "metadata": {
            "needs_background": "light"
          }
        }
      ]
    }
  ]
}